{
 "cells": [
  {
   "cell_type": "code",
   "execution_count": 1,
   "id": "1394e9a8-0f3d-450f-8a35-e9cb500aae8f",
   "metadata": {},
   "outputs": [],
   "source": [
    "# Begin with the necessary imports\n",
    "import requests\n",
    "import time"
   ]
  },
  {
   "cell_type": "code",
   "execution_count": 2,
   "id": "8b89b12a-2f5d-46ba-86a0-afb25a6626ec",
   "metadata": {},
   "outputs": [],
   "source": [
    "#MLB.com offers the easiest method for obtaining all the active players in the 2025 season.\n",
    "url = \"https://statsapi.mlb.com/api/v1/sports/1/players?fields=people,fullName,lastName,nameSlug&season=2025\"\n",
    "\n",
    "response = requests.get(url)\n",
    "response_json = response.json()"
   ]
  },
  {
   "cell_type": "code",
   "execution_count": 3,
   "id": "6185d6cc-eec0-4f50-b71b-ed461a9a3f75",
   "metadata": {},
   "outputs": [],
   "source": [
    "#From this json, we need to extract the players' names and add it to a list of active players\n",
    "active_players = []\n",
    "for player in response_json['people']:\n",
    "    active_players.append(player['fullName'])"
   ]
  },
  {
   "cell_type": "code",
   "execution_count": null,
   "id": "e703f9f0-440e-424f-be5f-00aac686d4f0",
   "metadata": {},
   "outputs": [],
   "source": [
    "#Baseball-Reference contains a wealth of stats on each player's home page. For now, we will request the entire HTML of each player's page.\n",
    "#Baseball-Reference urls follow a particular pattern. In general for each player, I need to parse the first two letters of their first name and first five of their last name.\n",
    "#We will loop over the active_players list with that in mind, add error players to a list for additional processing.\n",
    "for player in active_players:\n",
    "    first_name = player.split(\" \")[0]\n",
    "    last_name = player.split(\" \")[1]\n",
    "    first_name_parsed = first_name[0:2].lower()\n",
    "    last_name_parsed = last_name[0:5].lower()\n",
    "    \n",
    "    time.sleep(2.1) #<---- Slows down the web call to prevent rate limiting. \n",
    "    url = f\"https://www.baseball-reference.com/players/{last_name_parsed[0]}/{last_name_parsed}{first_name_parsed}01.shtml\"\n",
    "    response = requests.get(url)\n",
    "    if \"Page Not Found (404 error)\" not in response.text:\n",
    "        with open(f'../data/raw/{player}.html', 'w+', encoding='utf-8') as f:\n",
    "            f.write(response.text)\n",
    "            f.close()\n",
    "    \n",
    "        print(f\"{player} html file downloaded.\")\n",
    "    else:\n",
    "        print(f\"{player} html file failed to download. Added to error players.\")\n",
    "    "
   ]
  },
  {
   "cell_type": "code",
   "execution_count": null,
   "id": "d5907e94-ec03-4d3d-ba11-21e71e9b74ad",
   "metadata": {},
   "outputs": [],
   "source": []
  }
 ],
 "metadata": {
  "kernelspec": {
   "display_name": "Python 3 (ipykernel)",
   "language": "python",
   "name": "python3"
  },
  "language_info": {
   "codemirror_mode": {
    "name": "ipython",
    "version": 3
   },
   "file_extension": ".py",
   "mimetype": "text/x-python",
   "name": "python",
   "nbconvert_exporter": "python",
   "pygments_lexer": "ipython3",
   "version": "3.8.10"
  }
 },
 "nbformat": 4,
 "nbformat_minor": 5
}
