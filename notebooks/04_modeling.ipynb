{
 "cells": [
  {
   "cell_type": "code",
   "execution_count": 1,
   "id": "fc0c18e5-b887-4c6c-bc17-96306ecd1bfe",
   "metadata": {},
   "outputs": [
    {
     "name": "stdout",
     "output_type": "stream",
     "text": [
      "c:\\Users\\drake\\Documents\\WGU\\Capstone\\AnalyticsCapstone\n"
     ]
    }
   ],
   "source": [
    "cd c:\\\\Users\\\\drake\\\\Documents\\\\WGU\\\\Capstone\\\\AnalyticsCapstone\\\\"
   ]
  },
  {
   "cell_type": "code",
   "execution_count": null,
   "id": "ce0abb50",
   "metadata": {},
   "outputs": [],
   "source": [
    "from src.data.clean_data import get_batters_df_normalized, get_pitchers_df_normalized\n",
    "import pandas as pd\n",
    "from sklearn.preprocessing import StandardScaler\n",
    "from sklearn.linear_model import LinearRegression\n",
    "from sklearn.metrics import mean_squared_error, r2_score\n",
    "from sklearn.model_selection import train_test_split\n",
    "import joblib\n",
    "\n"
   ]
  },
  {
   "cell_type": "markdown",
   "id": "23b4c9cd",
   "metadata": {},
   "source": [
    "We need to normalize our data before we can begin modeling."
   ]
  },
  {
   "cell_type": "code",
   "execution_count": null,
   "id": "c7d4c7fb",
   "metadata": {},
   "outputs": [
    {
     "data": {
      "text/html": [
       "<div>\n",
       "<style scoped>\n",
       "    .dataframe tbody tr th:only-of-type {\n",
       "        vertical-align: middle;\n",
       "    }\n",
       "\n",
       "    .dataframe tbody tr th {\n",
       "        vertical-align: top;\n",
       "    }\n",
       "\n",
       "    .dataframe thead th {\n",
       "        text-align: right;\n",
       "    }\n",
       "</style>\n",
       "<table border=\"1\" class=\"dataframe\">\n",
       "  <thead>\n",
       "    <tr style=\"text-align: right;\">\n",
       "      <th></th>\n",
       "      <th>age</th>\n",
       "      <th>b_war</th>\n",
       "      <th>b_games</th>\n",
       "      <th>b_pa</th>\n",
       "      <th>b_ab</th>\n",
       "      <th>b_r</th>\n",
       "      <th>b_h</th>\n",
       "      <th>b_doubles</th>\n",
       "      <th>b_triples</th>\n",
       "      <th>b_hr</th>\n",
       "      <th>...</th>\n",
       "      <th>b_onbase_plus_slugging_plus</th>\n",
       "      <th>b_roba</th>\n",
       "      <th>b_rbat_plus</th>\n",
       "      <th>b_tb</th>\n",
       "      <th>b_gidp</th>\n",
       "      <th>b_hbp</th>\n",
       "      <th>b_sh</th>\n",
       "      <th>b_sf</th>\n",
       "      <th>b_ibb</th>\n",
       "      <th>salary</th>\n",
       "    </tr>\n",
       "  </thead>\n",
       "  <tbody>\n",
       "    <tr>\n",
       "      <th>0</th>\n",
       "      <td>0.631579</td>\n",
       "      <td>1.000000</td>\n",
       "      <td>0.974194</td>\n",
       "      <td>0.957592</td>\n",
       "      <td>0.832084</td>\n",
       "      <td>0.909091</td>\n",
       "      <td>0.899497</td>\n",
       "      <td>0.750000</td>\n",
       "      <td>0.071429</td>\n",
       "      <td>1.000000</td>\n",
       "      <td>...</td>\n",
       "      <td>1.000000</td>\n",
       "      <td>1.000000</td>\n",
       "      <td>1.000000</td>\n",
       "      <td>0.953659</td>\n",
       "      <td>0.88</td>\n",
       "      <td>0.409091</td>\n",
       "      <td>0.000</td>\n",
       "      <td>0.2</td>\n",
       "      <td>1.00</td>\n",
       "      <td>0.780833</td>\n",
       "    </tr>\n",
       "    <tr>\n",
       "      <th>1</th>\n",
       "      <td>0.631579</td>\n",
       "      <td>0.153226</td>\n",
       "      <td>0.625806</td>\n",
       "      <td>0.396717</td>\n",
       "      <td>0.386807</td>\n",
       "      <td>0.250000</td>\n",
       "      <td>0.261307</td>\n",
       "      <td>0.208333</td>\n",
       "      <td>0.071429</td>\n",
       "      <td>0.068966</td>\n",
       "      <td>...</td>\n",
       "      <td>0.236967</td>\n",
       "      <td>0.292763</td>\n",
       "      <td>0.270642</td>\n",
       "      <td>0.185366</td>\n",
       "      <td>0.00</td>\n",
       "      <td>0.318182</td>\n",
       "      <td>0.375</td>\n",
       "      <td>0.0</td>\n",
       "      <td>0.00</td>\n",
       "      <td>0.014345</td>\n",
       "    </tr>\n",
       "    <tr>\n",
       "      <th>2</th>\n",
       "      <td>0.315789</td>\n",
       "      <td>0.403226</td>\n",
       "      <td>0.909677</td>\n",
       "      <td>0.867305</td>\n",
       "      <td>0.850075</td>\n",
       "      <td>0.500000</td>\n",
       "      <td>0.713568</td>\n",
       "      <td>0.437500</td>\n",
       "      <td>0.071429</td>\n",
       "      <td>0.327586</td>\n",
       "      <td>...</td>\n",
       "      <td>0.436019</td>\n",
       "      <td>0.437500</td>\n",
       "      <td>0.467890</td>\n",
       "      <td>0.541463</td>\n",
       "      <td>0.36</td>\n",
       "      <td>0.090909</td>\n",
       "      <td>0.000</td>\n",
       "      <td>0.7</td>\n",
       "      <td>0.15</td>\n",
       "      <td>0.093445</td>\n",
       "    </tr>\n",
       "    <tr>\n",
       "      <th>3</th>\n",
       "      <td>0.368421</td>\n",
       "      <td>0.370968</td>\n",
       "      <td>0.877419</td>\n",
       "      <td>0.823529</td>\n",
       "      <td>0.824588</td>\n",
       "      <td>0.454545</td>\n",
       "      <td>0.773869</td>\n",
       "      <td>0.916667</td>\n",
       "      <td>0.142857</td>\n",
       "      <td>0.258621</td>\n",
       "      <td>...</td>\n",
       "      <td>0.473934</td>\n",
       "      <td>0.526316</td>\n",
       "      <td>0.513761</td>\n",
       "      <td>0.602439</td>\n",
       "      <td>0.72</td>\n",
       "      <td>0.272727</td>\n",
       "      <td>0.000</td>\n",
       "      <td>0.6</td>\n",
       "      <td>0.10</td>\n",
       "      <td>0.137278</td>\n",
       "    </tr>\n",
       "    <tr>\n",
       "      <th>4</th>\n",
       "      <td>0.263158</td>\n",
       "      <td>0.290323</td>\n",
       "      <td>0.619355</td>\n",
       "      <td>0.522572</td>\n",
       "      <td>0.503748</td>\n",
       "      <td>0.159091</td>\n",
       "      <td>0.427136</td>\n",
       "      <td>0.395833</td>\n",
       "      <td>0.071429</td>\n",
       "      <td>0.086207</td>\n",
       "      <td>...</td>\n",
       "      <td>0.369668</td>\n",
       "      <td>0.404605</td>\n",
       "      <td>0.408257</td>\n",
       "      <td>0.295122</td>\n",
       "      <td>0.44</td>\n",
       "      <td>0.090909</td>\n",
       "      <td>0.000</td>\n",
       "      <td>0.9</td>\n",
       "      <td>0.05</td>\n",
       "      <td>0.075513</td>\n",
       "    </tr>\n",
       "  </tbody>\n",
       "</table>\n",
       "<p>5 rows × 29 columns</p>\n",
       "</div>"
      ],
      "text/plain": [
       "        age     b_war   b_games      b_pa      b_ab       b_r       b_h  \\\n",
       "0  0.631579  1.000000  0.974194  0.957592  0.832084  0.909091  0.899497   \n",
       "1  0.631579  0.153226  0.625806  0.396717  0.386807  0.250000  0.261307   \n",
       "2  0.315789  0.403226  0.909677  0.867305  0.850075  0.500000  0.713568   \n",
       "3  0.368421  0.370968  0.877419  0.823529  0.824588  0.454545  0.773869   \n",
       "4  0.263158  0.290323  0.619355  0.522572  0.503748  0.159091  0.427136   \n",
       "\n",
       "   b_doubles  b_triples      b_hr  ...  b_onbase_plus_slugging_plus    b_roba  \\\n",
       "0   0.750000   0.071429  1.000000  ...                     1.000000  1.000000   \n",
       "1   0.208333   0.071429  0.068966  ...                     0.236967  0.292763   \n",
       "2   0.437500   0.071429  0.327586  ...                     0.436019  0.437500   \n",
       "3   0.916667   0.142857  0.258621  ...                     0.473934  0.526316   \n",
       "4   0.395833   0.071429  0.086207  ...                     0.369668  0.404605   \n",
       "\n",
       "   b_rbat_plus      b_tb  b_gidp     b_hbp   b_sh  b_sf  b_ibb    salary  \n",
       "0     1.000000  0.953659    0.88  0.409091  0.000   0.2   1.00  0.780833  \n",
       "1     0.270642  0.185366    0.00  0.318182  0.375   0.0   0.00  0.014345  \n",
       "2     0.467890  0.541463    0.36  0.090909  0.000   0.7   0.15  0.093445  \n",
       "3     0.513761  0.602439    0.72  0.272727  0.000   0.6   0.10  0.137278  \n",
       "4     0.408257  0.295122    0.44  0.090909  0.000   0.9   0.05  0.075513  \n",
       "\n",
       "[5 rows x 29 columns]"
      ]
     },
     "execution_count": 4,
     "metadata": {},
     "output_type": "execute_result"
    }
   ],
   "source": [
    "batters_normalized_numeric = get_batters_df_normalized()\n",
    "pitchers_normalized_numeric = get_pitchers_df_normalized()"
   ]
  },
  {
   "cell_type": "markdown",
   "id": "417e6adc",
   "metadata": {},
   "source": [
    "With our data normalized, we can now train our models."
   ]
  },
  {
   "cell_type": "code",
   "execution_count": 5,
   "id": "89d8c7d4",
   "metadata": {},
   "outputs": [],
   "source": [
    "\n",
    "# Define features and target variable\n",
    "# We'll predict 'b_war' using all other numeric columns except 'b_war' itself\n",
    "X_batters = batters_normalized_numeric.drop(columns=['b_war'])\n",
    "y_batters = batters_normalized_numeric['b_war']\n",
    "\n",
    "# Split into train and test sets\n",
    "X_train_batters, X_test_batters, y_train_batters, y_test_batters = train_test_split(\n",
    "    X_batters, y_batters, test_size=0.2, random_state=42\n",
    ")\n",
    "\n",
    "# Train the linear regression model\n",
    "batters_model = LinearRegression()\n",
    "batters_model.fit(X_train_batters, y_train_batters)\n",
    "\n",
    "# Make predictions on the test set\n",
    "predictions = batters_model.predict(X_test_batters)\n"
   ]
  },
  {
   "cell_type": "markdown",
   "id": "7d4adb10",
   "metadata": {},
   "source": [
    "Lets evaluate the model."
   ]
  },
  {
   "cell_type": "code",
   "execution_count": 6,
   "id": "d679adfa",
   "metadata": {},
   "outputs": [
    {
     "name": "stdout",
     "output_type": "stream",
     "text": [
      "Mean Squared Error: 0.0042\n",
      "R^2 Score: 0.7227\n"
     ]
    }
   ],
   "source": [
    "# Calculate Mean Squared Error and R^2 Score on the test set\n",
    "mse = mean_squared_error(y_test_batters, predictions)\n",
    "r2 = r2_score(y_test_batters, predictions)\n",
    "\n",
    "print(f\"Mean Squared Error: {mse:.4f}\")\n",
    "print(f\"R^2 Score: {r2:.4f}\")\n"
   ]
  },
  {
   "cell_type": "markdown",
   "id": "a2e54f3e",
   "metadata": {},
   "source": [
    "A strong model, despite the modest size of the data. Now for the pitchers."
   ]
  },
  {
   "cell_type": "code",
   "execution_count": 7,
   "id": "259a73f4",
   "metadata": {},
   "outputs": [],
   "source": [
    "# Define features and target variable\n",
    "# We'll predict 'b_war' using all other numeric columns except 'b_war' itself\n",
    "X_pitchers = pitchers_normalized_numeric.drop(columns=['p_war'])\n",
    "y_pitchers = pitchers_normalized_numeric['p_war']\n",
    "\n",
    "# Split into train and test sets\n",
    "X_train_pitchers, X_test_pitchers, y_train_pitchers, y_test_pitchers = train_test_split(\n",
    "    X_pitchers, y_pitchers, test_size=0.2, random_state=42\n",
    ")\n",
    "\n",
    "# Train the linear regression model\n",
    "pitchers_model = LinearRegression()\n",
    "pitchers_model.fit(X_train_pitchers, y_train_pitchers)\n",
    "\n",
    "# Make predictions on the test set\n",
    "predictions = pitchers_model.predict(X_test_pitchers)"
   ]
  },
  {
   "cell_type": "code",
   "execution_count": 8,
   "id": "e2001287",
   "metadata": {},
   "outputs": [
    {
     "name": "stdout",
     "output_type": "stream",
     "text": [
      "Mean Squared Error: 0.0057\n",
      "R^2 Score: 0.8943\n"
     ]
    }
   ],
   "source": [
    "# Calculate Mean Squared Error and R^2 Score on the test set\n",
    "mse = mean_squared_error(y_test_pitchers, predictions)\n",
    "r2 = r2_score(y_test_pitchers, predictions)\n",
    "\n",
    "print(f\"Mean Squared Error: {mse:.4f}\")\n",
    "print(f\"R^2 Score: {r2:.4f}\")\n"
   ]
  },
  {
   "cell_type": "markdown",
   "id": "8bae284a",
   "metadata": {},
   "source": [
    "Even stronger than the batters!"
   ]
  },
  {
   "cell_type": "code",
   "execution_count": 9,
   "id": "3e9ce1fa",
   "metadata": {},
   "outputs": [
    {
     "data": {
      "text/plain": [
       "['data/models/pitchers_model.joblib']"
      ]
     },
     "execution_count": 9,
     "metadata": {},
     "output_type": "execute_result"
    }
   ],
   "source": [
    "# Save the batters model\n",
    "joblib.dump(batters_model, \"data/models/batters_model.joblib\")\n",
    "\n",
    "# Save the pitchers model\n",
    "joblib.dump(pitchers_model, \"data/models/pitchers_model.joblib\")\n"
   ]
  },
  {
   "cell_type": "code",
   "execution_count": null,
   "id": "62cf0830",
   "metadata": {},
   "outputs": [],
   "source": []
  }
 ],
 "metadata": {
  "kernelspec": {
   "display_name": "Python 3",
   "language": "python",
   "name": "python3"
  },
  "language_info": {
   "codemirror_mode": {
    "name": "ipython",
    "version": 3
   },
   "file_extension": ".py",
   "mimetype": "text/x-python",
   "name": "python",
   "nbconvert_exporter": "python",
   "pygments_lexer": "ipython3",
   "version": "3.8.10"
  }
 },
 "nbformat": 4,
 "nbformat_minor": 5
}
