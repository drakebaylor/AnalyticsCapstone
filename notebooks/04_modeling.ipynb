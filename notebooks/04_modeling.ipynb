{
 "cells": [
  {
   "cell_type": "code",
   "execution_count": 1,
   "id": "fc0c18e5-b887-4c6c-bc17-96306ecd1bfe",
   "metadata": {},
   "outputs": [
    {
     "name": "stdout",
     "output_type": "stream",
     "text": [
      "c:\\Users\\drake\\Documents\\WGU\\Capstone\\AnalyticsCapstone\n"
     ]
    }
   ],
   "source": [
    "cd c:\\\\Users\\\\drake\\\\Documents\\\\WGU\\\\Capstone\\\\AnalyticsCapstone\\\\"
   ]
  },
  {
   "cell_type": "code",
   "execution_count": null,
   "id": "ce0abb50",
   "metadata": {},
   "outputs": [],
   "source": [
    "from src.data.clean_data import get_batters_df, get_pitchers_df"
   ]
  },
  {
   "cell_type": "markdown",
   "id": "23b4c9cd",
   "metadata": {},
   "source": [
    "We need to normalize our data before we can begin clustering and modeling."
   ]
  },
  {
   "cell_type": "code",
   "execution_count": null,
   "id": "c7d4c7fb",
   "metadata": {},
   "outputs": [],
   "source": [
    "batters_df = get_batters_df()\n",
    "pitchers_df = get_pitchers_df()"
   ]
  }
 ],
 "metadata": {
  "kernelspec": {
   "display_name": "Python 3",
   "language": "python",
   "name": "python3"
  },
  "language_info": {
   "codemirror_mode": {
    "name": "ipython",
    "version": 3
   },
   "file_extension": ".py",
   "mimetype": "text/x-python",
   "name": "python",
   "nbconvert_exporter": "python",
   "pygments_lexer": "ipython3",
   "version": "3.8.10"
  }
 },
 "nbformat": 4,
 "nbformat_minor": 5
}
