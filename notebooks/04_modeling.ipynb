{
 "cells": [
  {
   "cell_type": "code",
   "execution_count": 1,
   "id": "fc0c18e5-b887-4c6c-bc17-96306ecd1bfe",
   "metadata": {},
   "outputs": [
    {
     "name": "stdout",
     "output_type": "stream",
     "text": [
      "c:\\Users\\drake\\Documents\\WGU\\Capstone\\AnalyticsCapstone\n"
     ]
    }
   ],
   "source": [
    "cd c:\\\\Users\\\\drake\\\\Documents\\\\WGU\\\\Capstone\\\\AnalyticsCapstone\\\\"
   ]
  },
  {
   "cell_type": "code",
   "execution_count": 2,
   "id": "ce0abb50",
   "metadata": {},
   "outputs": [],
   "source": [
    "from src.data.clean_data import get_batters_df_normalized, get_pitchers_df_normalized\n",
    "import pandas as pd\n",
    "from sklearn.preprocessing import StandardScaler\n",
    "from sklearn.linear_model import LinearRegression\n",
    "from sklearn.metrics import mean_squared_error, r2_score\n",
    "from sklearn.model_selection import train_test_split\n",
    "import joblib\n",
    "\n"
   ]
  },
  {
   "cell_type": "markdown",
   "id": "23b4c9cd",
   "metadata": {},
   "source": [
    "We need to normalize our data before we can begin modeling."
   ]
  },
  {
   "cell_type": "code",
   "execution_count": 3,
   "id": "c7d4c7fb",
   "metadata": {},
   "outputs": [
    {
     "data": {
      "text/html": [
       "<div>\n",
       "<style scoped>\n",
       "    .dataframe tbody tr th:only-of-type {\n",
       "        vertical-align: middle;\n",
       "    }\n",
       "\n",
       "    .dataframe tbody tr th {\n",
       "        vertical-align: top;\n",
       "    }\n",
       "\n",
       "    .dataframe thead th {\n",
       "        text-align: right;\n",
       "    }\n",
       "</style>\n",
       "<table border=\"1\" class=\"dataframe\">\n",
       "  <thead>\n",
       "    <tr style=\"text-align: right;\">\n",
       "      <th></th>\n",
       "      <th>age</th>\n",
       "      <th>p_war</th>\n",
       "      <th>p_win_loss_perc</th>\n",
       "      <th>p_earned_run_avg</th>\n",
       "      <th>p_g</th>\n",
       "      <th>p_gs</th>\n",
       "      <th>p_ip</th>\n",
       "      <th>p_r</th>\n",
       "      <th>p_bfp</th>\n",
       "      <th>p_earned_run_avg_plus</th>\n",
       "      <th>p_fip</th>\n",
       "      <th>p_whip</th>\n",
       "      <th>p_hits_per_nine</th>\n",
       "      <th>p_hr_per_nine</th>\n",
       "      <th>p_bb_per_nine</th>\n",
       "      <th>p_so_per_nine</th>\n",
       "      <th>p_strikeouts_per_base_on_balls</th>\n",
       "      <th>salary</th>\n",
       "    </tr>\n",
       "  </thead>\n",
       "  <tbody>\n",
       "    <tr>\n",
       "      <th>0</th>\n",
       "      <td>0.210526</td>\n",
       "      <td>0.243902</td>\n",
       "      <td>0.333</td>\n",
       "      <td>0.388587</td>\n",
       "      <td>0.168831</td>\n",
       "      <td>0.060606</td>\n",
       "      <td>0.126152</td>\n",
       "      <td>0.114035</td>\n",
       "      <td>0.133253</td>\n",
       "      <td>0.139803</td>\n",
       "      <td>0.231013</td>\n",
       "      <td>0.417495</td>\n",
       "      <td>0.333333</td>\n",
       "      <td>0.222222</td>\n",
       "      <td>0.542373</td>\n",
       "      <td>0.572727</td>\n",
       "      <td>0.184451</td>\n",
       "      <td>0.080432</td>\n",
       "    </tr>\n",
       "    <tr>\n",
       "      <th>1</th>\n",
       "      <td>0.421053</td>\n",
       "      <td>0.292683</td>\n",
       "      <td>0.571</td>\n",
       "      <td>0.486413</td>\n",
       "      <td>0.714286</td>\n",
       "      <td>0.000000</td>\n",
       "      <td>0.257157</td>\n",
       "      <td>0.210526</td>\n",
       "      <td>0.283313</td>\n",
       "      <td>0.097039</td>\n",
       "      <td>0.139241</td>\n",
       "      <td>0.662028</td>\n",
       "      <td>0.722222</td>\n",
       "      <td>0.111111</td>\n",
       "      <td>0.491525</td>\n",
       "      <td>0.636364</td>\n",
       "      <td>0.224848</td>\n",
       "      <td>0.138663</td>\n",
       "    </tr>\n",
       "    <tr>\n",
       "      <th>2</th>\n",
       "      <td>0.368421</td>\n",
       "      <td>0.353659</td>\n",
       "      <td>0.471</td>\n",
       "      <td>0.592391</td>\n",
       "      <td>0.389610</td>\n",
       "      <td>0.939394</td>\n",
       "      <td>0.770985</td>\n",
       "      <td>0.719298</td>\n",
       "      <td>0.817527</td>\n",
       "      <td>0.055921</td>\n",
       "      <td>0.536392</td>\n",
       "      <td>0.579854</td>\n",
       "      <td>0.600000</td>\n",
       "      <td>0.592593</td>\n",
       "      <td>0.491525</td>\n",
       "      <td>0.372727</td>\n",
       "      <td>0.151677</td>\n",
       "      <td>0.175058</td>\n",
       "    </tr>\n",
       "    <tr>\n",
       "      <th>3</th>\n",
       "      <td>0.473684</td>\n",
       "      <td>0.670732</td>\n",
       "      <td>0.636</td>\n",
       "      <td>0.485054</td>\n",
       "      <td>0.415584</td>\n",
       "      <td>1.000000</td>\n",
       "      <td>0.955847</td>\n",
       "      <td>0.736842</td>\n",
       "      <td>0.974790</td>\n",
       "      <td>0.095395</td>\n",
       "      <td>0.409810</td>\n",
       "      <td>0.510272</td>\n",
       "      <td>0.566667</td>\n",
       "      <td>0.518519</td>\n",
       "      <td>0.389831</td>\n",
       "      <td>0.427273</td>\n",
       "      <td>0.233232</td>\n",
       "      <td>0.577130</td>\n",
       "    </tr>\n",
       "    <tr>\n",
       "      <th>4</th>\n",
       "      <td>0.157895</td>\n",
       "      <td>0.378049</td>\n",
       "      <td>0.600</td>\n",
       "      <td>0.384511</td>\n",
       "      <td>0.766234</td>\n",
       "      <td>0.000000</td>\n",
       "      <td>0.296458</td>\n",
       "      <td>0.210526</td>\n",
       "      <td>0.316927</td>\n",
       "      <td>0.143092</td>\n",
       "      <td>0.227848</td>\n",
       "      <td>0.589795</td>\n",
       "      <td>0.611111</td>\n",
       "      <td>0.222222</td>\n",
       "      <td>0.508475</td>\n",
       "      <td>0.527273</td>\n",
       "      <td>0.190549</td>\n",
       "      <td>0.029480</td>\n",
       "    </tr>\n",
       "  </tbody>\n",
       "</table>\n",
       "</div>"
      ],
      "text/plain": [
       "        age     p_war  p_win_loss_perc  p_earned_run_avg       p_g      p_gs  \\\n",
       "0  0.210526  0.243902            0.333          0.388587  0.168831  0.060606   \n",
       "1  0.421053  0.292683            0.571          0.486413  0.714286  0.000000   \n",
       "2  0.368421  0.353659            0.471          0.592391  0.389610  0.939394   \n",
       "3  0.473684  0.670732            0.636          0.485054  0.415584  1.000000   \n",
       "4  0.157895  0.378049            0.600          0.384511  0.766234  0.000000   \n",
       "\n",
       "       p_ip       p_r     p_bfp  p_earned_run_avg_plus     p_fip    p_whip  \\\n",
       "0  0.126152  0.114035  0.133253               0.139803  0.231013  0.417495   \n",
       "1  0.257157  0.210526  0.283313               0.097039  0.139241  0.662028   \n",
       "2  0.770985  0.719298  0.817527               0.055921  0.536392  0.579854   \n",
       "3  0.955847  0.736842  0.974790               0.095395  0.409810  0.510272   \n",
       "4  0.296458  0.210526  0.316927               0.143092  0.227848  0.589795   \n",
       "\n",
       "   p_hits_per_nine  p_hr_per_nine  p_bb_per_nine  p_so_per_nine  \\\n",
       "0         0.333333       0.222222       0.542373       0.572727   \n",
       "1         0.722222       0.111111       0.491525       0.636364   \n",
       "2         0.600000       0.592593       0.491525       0.372727   \n",
       "3         0.566667       0.518519       0.389831       0.427273   \n",
       "4         0.611111       0.222222       0.508475       0.527273   \n",
       "\n",
       "   p_strikeouts_per_base_on_balls    salary  \n",
       "0                        0.184451  0.080432  \n",
       "1                        0.224848  0.138663  \n",
       "2                        0.151677  0.175058  \n",
       "3                        0.233232  0.577130  \n",
       "4                        0.190549  0.029480  "
      ]
     },
     "execution_count": 3,
     "metadata": {},
     "output_type": "execute_result"
    }
   ],
   "source": [
    "batters_normalized_numeric = get_batters_df_normalized()\n",
    "pitchers_normalized_numeric = get_pitchers_df_normalized()\n",
    "\n",
    "pitchers_normalized_numeric.head()"
   ]
  },
  {
   "cell_type": "markdown",
   "id": "417e6adc",
   "metadata": {},
   "source": [
    "With our data normalized, we can now train our models."
   ]
  },
  {
   "cell_type": "code",
   "execution_count": 4,
   "id": "89d8c7d4",
   "metadata": {},
   "outputs": [],
   "source": [
    "\n",
    "# Define features and target variable\n",
    "# We'll predict 'b_war' using all other numeric columns except 'b_war' itself\n",
    "X_batters = batters_normalized_numeric.drop(columns=['b_war'])\n",
    "y_batters = batters_normalized_numeric['b_war']\n",
    "\n",
    "# Split into train and test sets\n",
    "X_train_batters, X_test_batters, y_train_batters, y_test_batters = train_test_split(\n",
    "    X_batters, y_batters, test_size=0.2, random_state=42\n",
    ")\n",
    "\n",
    "# Train the linear regression model\n",
    "batters_model = LinearRegression()\n",
    "batters_model.fit(X_train_batters, y_train_batters)\n",
    "\n",
    "# Make predictions on the test set\n",
    "predictions = batters_model.predict(X_test_batters)\n"
   ]
  },
  {
   "cell_type": "markdown",
   "id": "7d4adb10",
   "metadata": {},
   "source": [
    "Lets evaluate the model."
   ]
  },
  {
   "cell_type": "code",
   "execution_count": 5,
   "id": "d679adfa",
   "metadata": {},
   "outputs": [
    {
     "name": "stdout",
     "output_type": "stream",
     "text": [
      "Mean Squared Error: 0.0042\n",
      "R^2 Score: 0.7227\n"
     ]
    }
   ],
   "source": [
    "# Calculate Mean Squared Error and R^2 Score on the test set\n",
    "mse = mean_squared_error(y_test_batters, predictions)\n",
    "r2 = r2_score(y_test_batters, predictions)\n",
    "\n",
    "print(f\"Mean Squared Error: {mse:.4f}\")\n",
    "print(f\"R^2 Score: {r2:.4f}\")\n"
   ]
  },
  {
   "cell_type": "markdown",
   "id": "a2e54f3e",
   "metadata": {},
   "source": [
    "A strong model, despite the modest size of the data. Now for the pitchers."
   ]
  },
  {
   "cell_type": "code",
   "execution_count": 6,
   "id": "259a73f4",
   "metadata": {},
   "outputs": [],
   "source": [
    "# Define features and target variable\n",
    "# We'll predict 'b_war' using all other numeric columns except 'b_war' itself\n",
    "X_pitchers = pitchers_normalized_numeric.drop(columns=['p_war'])\n",
    "y_pitchers = pitchers_normalized_numeric['p_war']\n",
    "\n",
    "# Split into train and test sets\n",
    "X_train_pitchers, X_test_pitchers, y_train_pitchers, y_test_pitchers = train_test_split(\n",
    "    X_pitchers, y_pitchers, test_size=0.2, random_state=42\n",
    ")\n",
    "\n",
    "# Train the linear regression model\n",
    "pitchers_model = LinearRegression()\n",
    "pitchers_model.fit(X_train_pitchers, y_train_pitchers)\n",
    "\n",
    "# Make predictions on the test set\n",
    "predictions = pitchers_model.predict(X_test_pitchers)"
   ]
  },
  {
   "cell_type": "code",
   "execution_count": 7,
   "id": "e2001287",
   "metadata": {},
   "outputs": [
    {
     "name": "stdout",
     "output_type": "stream",
     "text": [
      "Mean Squared Error: 0.0057\n",
      "R^2 Score: 0.8943\n"
     ]
    }
   ],
   "source": [
    "# Calculate Mean Squared Error and R^2 Score on the test set\n",
    "mse = mean_squared_error(y_test_pitchers, predictions)\n",
    "r2 = r2_score(y_test_pitchers, predictions)\n",
    "\n",
    "print(f\"Mean Squared Error: {mse:.4f}\")\n",
    "print(f\"R^2 Score: {r2:.4f}\")\n"
   ]
  },
  {
   "cell_type": "markdown",
   "id": "8bae284a",
   "metadata": {},
   "source": [
    "Even stronger than the batters!"
   ]
  },
  {
   "cell_type": "code",
   "execution_count": 8,
   "id": "3e9ce1fa",
   "metadata": {},
   "outputs": [
    {
     "data": {
      "text/plain": [
       "['data/models/pitchers_model.joblib']"
      ]
     },
     "execution_count": 8,
     "metadata": {},
     "output_type": "execute_result"
    }
   ],
   "source": [
    "# Save the batters model\n",
    "joblib.dump(batters_model, \"data/models/batters_model.joblib\")\n",
    "\n",
    "# Save the pitchers model\n",
    "joblib.dump(pitchers_model, \"data/models/pitchers_model.joblib\")\n"
   ]
  },
  {
   "cell_type": "code",
   "execution_count": null,
   "id": "62cf0830",
   "metadata": {},
   "outputs": [],
   "source": []
  }
 ],
 "metadata": {
  "kernelspec": {
   "display_name": "Python 3",
   "language": "python",
   "name": "python3"
  },
  "language_info": {
   "codemirror_mode": {
    "name": "ipython",
    "version": 3
   },
   "file_extension": ".py",
   "mimetype": "text/x-python",
   "name": "python",
   "nbconvert_exporter": "python",
   "pygments_lexer": "ipython3",
   "version": "3.8.10"
  }
 },
 "nbformat": 4,
 "nbformat_minor": 5
}
