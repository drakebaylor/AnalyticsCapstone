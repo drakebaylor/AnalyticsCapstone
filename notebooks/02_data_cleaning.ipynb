{
 "cells": [
  {
   "cell_type": "code",
   "execution_count": 6,
   "id": "47641f05-a11e-4654-ab14-3b40f0122ae2",
   "metadata": {},
   "outputs": [],
   "source": [
    "#import beautifulsoup\n",
    "from bs4 import BeautifulSoup\n",
    "import os\n",
    "import pandas as pd"
   ]
  },
  {
   "cell_type": "code",
   "execution_count": 5,
   "id": "2447349b-1fbe-4ef9-a6a7-bc92c2980a0a",
   "metadata": {},
   "outputs": [],
   "source": [
    "#Iterate over every file in the \"data/raw\" folder, and add its path to the list of files\n",
    "files = []\n",
    "path = '../data/raw'\n",
    "for filename in os.listdir(path):\n",
    "    full_path = os.path.join(path,filename)\n",
    "    if os.path.isfile(full_path):\n",
    "        files.append(full_path)"
   ]
  },
  {
   "cell_type": "code",
   "execution_count": null,
   "id": "14a3bd6e-e89d-4c13-a098-a989af3b82c2",
   "metadata": {},
   "outputs": [],
   "source": [
    "#For each file, parse the html for the relevant stats and add it to the correct dataframe. Pitchers and batters have different stats, so they will be seperated.\n",
    "batters_df = pd.DataFrame()\n",
    "pitchers_df = pd.DataFrame()\n",
    "for file in files:\n",
    "    with open(file, \"r\", encoding=\"utf-8\") as f:\n",
    "        html_content = f.read()\n",
    "\n",
    "    player_name = file.split(\".html\")[0].split(\"\\\\\")[-1]\n",
    "    \n",
    "    # Parse the HTML\n",
    "    soup = BeautifulSoup(html_content, \"html.parser\")\n",
    "\n",
    "        # Find the table wrapper for pitching\n",
    "    div = soup.find(id=\"div_players_value_pitching\")\n",
    "    if div:\n",
    "        row = div.find(id=\"players_value_pitching.2025\")\n",
    "        if row:\n",
    "            stats_dict = {}\n",
    "            stats_dict['fullName'] = player_name\n",
    "            year = row.find(\"th\", {\"data-stat\": \"year_id\"}).text.strip()\n",
    "            stats_dict[\"year\"] = year\n",
    "            for cell in row.find_all(\"td\"):\n",
    "                stat_name = cell.get(\"data-stat\")\n",
    "                stat_value = cell.text.strip()\n",
    "                stats_dict[stat_name] = stat_value\n",
    "            df = pd.DataFrame([stats_dict])\n",
    "            pitchers_df = pd.concat([pitchers_df, df], ignore_index=True)\n",
    "        else:\n",
    "            print(\"2025 pitching row not found.\")\n",
    "    else:\n",
    "        print(\"Pitching table not found.\")\n",
    "    \n",
    "    # Now handle batting\n",
    "    div = soup.find(id=\"div_players_standard_batting\")\n",
    "    if div:\n",
    "        row = div.find(id=\"players_standard_batting.2025\")\n",
    "        if row:\n",
    "            stats_dict = {}\n",
    "            stats_dict['fullName'] = player_name\n",
    "            year = row.find(\"th\", {\"data-stat\": \"year_id\"}).text.strip()\n",
    "            stats_dict[\"year\"] = year\n",
    "            for cell in row.find_all(\"td\"):\n",
    "                stat_name = cell.get(\"data-stat\")\n",
    "                stat_value = cell.text.strip()\n",
    "                stats_dict[stat_name] = stat_value\n",
    "            df = pd.DataFrame([stats_dict])\n",
    "            batters_df = pd.concat([batters_df, df], ignore_index=True)\n",
    "        else:\n",
    "            print(\"2025 batting row not found.\")\n",
    "    else:\n",
    "        print(\"Batting table not found.\")\n",
    "\n",
    "# return the dataframes"
   ]
  },
  {
   "cell_type": "code",
   "execution_count": null,
   "id": "75c2e8da-1d9e-4d8a-a7e2-0bf1138297e5",
   "metadata": {},
   "outputs": [],
   "source": []
  }
 ],
 "metadata": {
  "kernelspec": {
   "display_name": "Python 3 (ipykernel)",
   "language": "python",
   "name": "python3"
  },
  "language_info": {
   "codemirror_mode": {
    "name": "ipython",
    "version": 3
   },
   "file_extension": ".py",
   "mimetype": "text/x-python",
   "name": "python",
   "nbconvert_exporter": "python",
   "pygments_lexer": "ipython3",
   "version": "3.8.10"
  }
 },
 "nbformat": 4,
 "nbformat_minor": 5
}
