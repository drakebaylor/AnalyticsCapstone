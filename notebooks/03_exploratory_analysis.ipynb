{
 "cells": [
  {
   "cell_type": "code",
   "execution_count": 1,
   "id": "a68949c7-a707-4b42-bac6-77c39c837ef7",
   "metadata": {},
   "outputs": [],
   "source": [
    "#Explore the batter table\n",
    "import sqlite3\n",
    "import pandas as pd"
   ]
  },
  {
   "cell_type": "code",
   "execution_count": 11,
   "id": "b9e47f3b",
   "metadata": {},
   "outputs": [
    {
     "name": "stdout",
     "output_type": "stream",
     "text": [
      "c:\\Users\\drake\\Documents\\WGU\\Capstone\\AnalyticsCapstone\n"
     ]
    }
   ],
   "source": [
    "cd c:\\\\Users\\\\drake\\\\Documents\\\\WGU\\\\Capstone\\\\AnalyticsCapstone\\\\"
   ]
  },
  {
   "cell_type": "code",
   "execution_count": 16,
   "id": "98194956",
   "metadata": {},
   "outputs": [
    {
     "name": "stdout",
     "output_type": "stream",
     "text": [
      "Batters dataset shape: (401, 35)\n",
      "\n",
      "First few rows:\n",
      "           fullName  year age salary team_name_abbr comp_name_abbr b_war  \\\n",
      "0       Aaron Judge  2024  32   360M            NYY             AL  10.8   \n",
      "1      Aaron Schunk  2024  26   172M            COL             NL   0.2   \n",
      "2      Abraham Toro  2024  27   172M            OAK             AL   0.6   \n",
      "3      Adael Amador  2024  21   172M            COL             NL  -0.4   \n",
      "4      Adam Frazier  2024  32  1.53M            KCR             AL   0.3   \n",
      "..              ...   ...  ..    ...            ...            ...   ...   \n",
      "396    Zach Dezenzo  2024  24  13.5M            HOU             AL  -0.2   \n",
      "397  Zach McKinstry  2024  29  1.65M            DET             AL   0.8   \n",
      "398       Zach Neto  2024  23  1.65M            LAA             AL   5.1   \n",
      "399      Zack Gelof  2024  24    900            OAK             AL   1.4   \n",
      "400      Zack Short  2024  29  5.72M            3TM            2LG  -0.1   \n",
      "\n",
      "    b_games b_pa b_ab  ... b_roba b_rbat_plus b_tb b_gidp b_hbp b_sh b_sf  \\\n",
      "0       158  704  559  ...   .484         223  392     22     9    0    2   \n",
      "1        39   98   94  ...   .260          55   31      0     0    0    0   \n",
      "2        94  364  337  ...   .285          85  118      4     5    2    0   \n",
      "3        10   36   35  ...   .210          10    7      1     0    0    0   \n",
      "4       104  294  262  ...   .269          64   77      0     7    3    0   \n",
      "..      ...  ...  ...  ...    ...         ...  ...    ...   ...  ...  ...   \n",
      "396      19   65   62  ...   .307          98   23      3     0    0    0   \n",
      "397     118  325  297  ...   .288          74  100      3     2    0    2   \n",
      "398     155  602  542  ...   .334         112  240     14    16    4    1   \n",
      "399     138  547  497  ...   .286          80  180      7     4    3    5   \n",
      "400      42   88   70  ...   .239          42   12      0     1    3    0   \n",
      "\n",
      "    b_ibb        pos       awards  \n",
      "0      20     *8D/97  AS,MVP-1,SS  \n",
      "1       1     45/H6D               \n",
      "2       1    54DH/37               \n",
      "3       0          4               \n",
      "4       0   4H9D7/53               \n",
      "..    ...        ...          ...  \n",
      "396     0      3/5DH               \n",
      "397     0  65H479/1D               \n",
      "398     1       *6/H               \n",
      "399     0       *4/H               \n",
      "400     0     5H6/4D               \n",
      "\n",
      "[401 rows x 35 columns]\n",
      "\n",
      "Column names:\n",
      "['fullName', 'year', 'age', 'salary', 'team_name_abbr', 'comp_name_abbr', 'b_war', 'b_games', 'b_pa', 'b_ab', 'b_r', 'b_h', 'b_doubles', 'b_triples', 'b_hr', 'b_rbi', 'b_sb', 'b_cs', 'b_bb', 'b_so', 'b_batting_avg', 'b_onbase_perc', 'b_slugging_perc', 'b_onbase_plus_slugging', 'b_onbase_plus_slugging_plus', 'b_roba', 'b_rbat_plus', 'b_tb', 'b_gidp', 'b_hbp', 'b_sh', 'b_sf', 'b_ibb', 'pos', 'awards']\n"
     ]
    }
   ],
   "source": [
    "# Connect to the database\n",
    "conn = sqlite3.connect('data/processed/baseball_stats.db')\n",
    "\n",
    "# Query the batters table\n",
    "batters_df = pd.read_sql_query(\"SELECT * FROM batters WHERE salary > 0\", conn)\n",
    "\n",
    "# Display basic information about the dataset\n",
    "print(\"Batters dataset shape:\", batters_df.shape)\n",
    "print(\"\\nFirst few rows:\")\n",
    "print(batters_df)\n",
    "\n",
    "# Display column names\n",
    "print(\"\\nColumn names:\")\n",
    "print(batters_df.columns.tolist())\n",
    "\n",
    "# Close the connection\n",
    "conn.close()"
   ]
  },
  {
   "cell_type": "code",
   "execution_count": null,
   "id": "96ed901a",
   "metadata": {},
   "outputs": [],
   "source": [
    "#Query the pitchers table\n",
    "# Connect to the database\n",
    "conn = sqlite3.connect('data/processed/baseball_stats.db')\n",
    "\n",
    "# Query the batters table\n",
    "pitchers_df = pd.read_sql_query(\"SELECT * FROM pitchers WHERE salary > 0\", conn)\n",
    "\n",
    "# Display basic information about the dataset\n",
    "print(\"Pitchers dataset shape:\", pitchers_df.shape)\n",
    "print(\"\\nFirst few rows:\")\n",
    "print(pitchers_df)\n",
    "\n",
    "# Display column names\n",
    "print(\"\\nColumn names:\")\n",
    "print(pitchers_df.columns.tolist())\n",
    "\n",
    "# Close the connection\n",
    "conn.close()"
   ]
  }
 ],
 "metadata": {
  "kernelspec": {
   "display_name": "Python 3",
   "language": "python",
   "name": "python3"
  },
  "language_info": {
   "codemirror_mode": {
    "name": "ipython",
    "version": 3
   },
   "file_extension": ".py",
   "mimetype": "text/x-python",
   "name": "python",
   "nbconvert_exporter": "python",
   "pygments_lexer": "ipython3",
   "version": "3.8.10"
  }
 },
 "nbformat": 4,
 "nbformat_minor": 5
}
